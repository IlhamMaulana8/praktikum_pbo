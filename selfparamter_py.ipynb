{
  "nbformat": 4,
  "nbformat_minor": 0,
  "metadata": {
    "colab": {
      "provenance": [],
      "authorship_tag": "ABX9TyP+uTzSqddNrrd8d8sK7nhM",
      "include_colab_link": true
    },
    "kernelspec": {
      "name": "python3",
      "display_name": "Python 3"
    },
    "language_info": {
      "name": "python"
    }
  },
  "cells": [
    {
      "cell_type": "markdown",
      "metadata": {
        "id": "view-in-github",
        "colab_type": "text"
      },
      "source": [
        "<a href=\"https://colab.research.google.com/github/IlhamMaulana8/praktikum_pbo/blob/main/selfparamter_py.ipynb\" target=\"_parent\"><img src=\"https://colab.research.google.com/assets/colab-badge.svg\" alt=\"Open In Colab\"/></a>"
      ]
    },
    {
      "cell_type": "code",
      "execution_count": null,
      "metadata": {
        "id": "LPc4S-V-z7-A",
        "colab": {
          "base_uri": "https://localhost:8080/"
        },
        "outputId": "ae2aa63c-2b1a-456a-caa3-5590067b9173"
      },
      "outputs": [
        {
          "output_type": "stream",
          "name": "stdout",
          "text": [
            "linlin 2 Persia\n",
            "puf 3 Persia\n",
            "Persia\n"
          ]
        }
      ],
      "source": [
        "class Cat:\n",
        "    species = \"Persia\"  # Class attribute\n",
        "\n",
        "    def __init__(self, name, age):\n",
        "        self.name = name  # Instance attribute\n",
        "        self.age = age  # Instance attribute\n",
        "\n",
        "cat1 = Cat(\"linlin\", 2)  # Create an instance of Cat\n",
        "cat2 = Cat(\"puf\", 3)  # Create another instance of Cat\n",
        "\n",
        "print(cat1.name, cat1.age, cat1.species)  # Access instance and class attributes\n",
        "print(cat2.name, cat2.age, cat2.species)  # Access instance and class attributes\n",
        "print(Cat.species)  # Access class attribute directly"
      ]
    }
  ]
}