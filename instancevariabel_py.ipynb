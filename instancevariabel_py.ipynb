{
  "nbformat": 4,
  "nbformat_minor": 0,
  "metadata": {
    "colab": {
      "provenance": [],
      "authorship_tag": "ABX9TyP0z5dHx3JiFHoCTUfD454M",
      "include_colab_link": true
    },
    "kernelspec": {
      "name": "python3",
      "display_name": "Python 3"
    },
    "language_info": {
      "name": "python"
    }
  },
  "cells": [
    {
      "cell_type": "markdown",
      "metadata": {
        "id": "view-in-github",
        "colab_type": "text"
      },
      "source": [
        "<a href=\"https://colab.research.google.com/github/IlhamMaulana8/praktikum_pbo/blob/main/instancevariabel_py.ipynb\" target=\"_parent\"><img src=\"https://colab.research.google.com/assets/colab-badge.svg\" alt=\"Open In Colab\"/></a>"
      ]
    },
    {
      "cell_type": "code",
      "execution_count": null,
      "metadata": {
        "id": "R5PfxACBxXLu"
      },
      "outputs": [],
      "source": [
        "class Cat:\n",
        "    # Class variable\n",
        "    species = \"Persia\"\n",
        "\n",
        "    def __init__(self, name, age):\n",
        "        # Instance variables\n",
        "        self.name = name\n",
        "        self.age = age\n",
        "\n",
        "# Create objects\n",
        "cat1 = Cat(\"linlin\", 2)\n",
        "Cat2 = Cat(\"puf\", 3)\n",
        "\n",
        "# Access class and instance variables\n",
        "print(cat1.species)  # (Class variable)\n",
        "print(cat1.name)     # (Instance variable)\n",
        "print(Cat2.name)     # (Instance variable)\n",
        "\n",
        "# Modify instance variables\n",
        "cat1.name = \"War\"\n",
        "print(cat1.name)     # (Updated instance variable)\n",
        "\n",
        "# Modify class variable\n",
        "Cat.species = \"You\"\n",
        "print(cat1.species)  # (Updated class variable)\n",
        "print(cat2.species)"
      ]
    }
  ]
}